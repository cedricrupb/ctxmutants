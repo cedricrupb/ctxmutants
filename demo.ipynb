{
 "cells": [
  {
   "cell_type": "markdown",
   "metadata": {},
   "source": [
    "## Learning Realistic Mutations: Bug Creation for Neural Bug Detection\n",
    "This accompanying notebook is an interactive demo for our contextual mutator. The goal is to inject realistic\n",
    "bugs into code based on the context."
   ]
  },
  {
   "cell_type": "markdown",
   "metadata": {},
   "source": [
    "## Setup preprocessing\n",
    "As a first step, we setup the preprocessing of the code to be mutated. Here,\n",
    "we employ a specific syntactic tagger that preserves semantic roles of tokens."
   ]
  },
  {
   "cell_type": "code",
   "execution_count": 27,
   "metadata": {},
   "outputs": [
    {
     "name": "stdout",
     "output_type": "stream",
     "text": [
      "['public', 'int', 'additionTest', '(', 'int', 'a', ',', 'int', 'b', ')', '{', 'return', 'a', '+', 'b', ';', '}']\n"
     ]
    }
   ],
   "source": [
    "code_example = \"\"\"\n",
    "\n",
    "public int additionTest(int a, int b){\n",
    "    return a + b;\n",
    "}\n",
    "\n",
    "\"\"\"\n",
    "\n",
    "from ctxmutants.tokenize import func_tokenize\n",
    "\n",
    "def tokenize_code(code_snippet):\n",
    "    try:\n",
    "        return func_tokenize(code_snippet, lang = \"java\")\n",
    "    except Exception:\n",
    "        return func_tokenize(\"public class Test{%s}\" % code_snippet, lang = \"java\")\n",
    "\n",
    "\n",
    "func_to_tokens_types = tokenize_code(code_example)\n",
    "token_types = next(iter(func_to_tokens_types.values()))\n",
    "\n",
    "tokens, types = token_types[\"tokens\"], token_types[\"types\"]\n",
    "print(tokens)"
   ]
  },
  {
   "cell_type": "markdown",
   "metadata": {},
   "source": [
    "The `tokenize_code` function has successfully (1) identified the functions in the code snippet, (2) produced a tokenized version of the function and (3) computed syntactic types\n",
    "of each token. We will investigate the latter."
   ]
  },
  {
   "cell_type": "code",
   "execution_count": 9,
   "metadata": {},
   "outputs": [
    {
     "name": "stdout",
     "output_type": "stream",
     "text": [
      "public : KEYWORDS\n",
      "int : USE_TYPE\n",
      "additionTest : DEF_FUNC\n",
      "( : SYNTAX\n",
      "int : USE_TYPE\n",
      "a : DEF_VAR\n",
      ", : SYNTAX\n",
      "int : USE_TYPE\n",
      "b : DEF_VAR\n",
      ") : SYNTAX\n",
      "{ : SYNTAX\n",
      "return : KEYWORDS\n",
      "a : USE_VAR\n",
      "+ : BOP\n",
      "b : USE_VAR\n",
      "; : SYNTAX\n",
      "} : SYNTAX\n"
     ]
    }
   ],
   "source": [
    "for i, token in enumerate(tokens):\n",
    "    token_type = types[i]\n",
    "    print(\"%s : %s\" % (token, token_type.name))"
   ]
  },
  {
   "cell_type": "markdown",
   "metadata": {},
   "source": [
    "## Setup contextual mutation\n",
    "The contextual mutation process consists of two steps: (1) we employ\n",
    "a base mutator to generate mutation candidates and (2) select a mutation\n",
    "candidate with a masked language model."
   ]
  },
  {
   "cell_type": "code",
   "execution_count": 30,
   "metadata": {},
   "outputs": [
    {
     "data": {
      "text/plain": [
       "[{'code': 'public int additionTest ( int a , int b ) { return a > b ; }',\n",
       "  'location': 13,\n",
       "  'before': '+',\n",
       "  'after': '>',\n",
       "  'score': 0.3605694422459369},\n",
       " {'code': 'public int additionTest ( int a , int b ) { return a < b ; }',\n",
       "  'location': 13,\n",
       "  'before': '+',\n",
       "  'after': '<',\n",
       "  'score': 0.1880156641423118},\n",
       " {'code': 'public int additionTest ( int a , int b ) { return a >= b ; }',\n",
       "  'location': 13,\n",
       "  'before': '+',\n",
       "  'after': '>=',\n",
       "  'score': 0.1617198824838041},\n",
       " {'code': 'public int additionTest ( int a , int b ) { return a - b ; }',\n",
       "  'location': 13,\n",
       "  'before': '+',\n",
       "  'after': '-',\n",
       "  'score': 0.1067578773077604},\n",
       " {'code': 'public int additionTest ( int a , int b ) { return a == b ; }',\n",
       "  'location': 13,\n",
       "  'before': '+',\n",
       "  'after': '==',\n",
       "  'score': 0.07315896729156009}]"
      ]
     },
     "execution_count": 30,
     "metadata": {},
     "output_type": "execute_result"
    }
   ],
   "source": [
    "import random\n",
    "from collections import namedtuple\n",
    "\n",
    "from ctxmutants.mutation import strong_binary_mutation, weak_varmisuse_mutation\n",
    "from ctxmutants.mutation import weak_binary_mutation\n",
    "from ctxmutants.mutation import ContextualBatchMutation\n",
    "from ctxmutants.mutation import mlm_codebert_rerank\n",
    "\n",
    "MutationCandidate = namedtuple('MutationCandidate', [\"tokens\", \"types\", \"mask\", \"location\"])\n",
    "\n",
    "def ctx_mutate(tokens, types, location = None, topK = 5):\n",
    "\n",
    "    # (1) Select location and base mutator\n",
    "    base_mutators = {\"USE_VAR\": weak_varmisuse_mutation, \"BOP\": strong_binary_mutation}\n",
    "    if location is None: \n",
    "        candidate_locs = [i for i, t in enumerate(types) if t.name in base_mutators]\n",
    "        assert len(candidate_locs) > 0\n",
    "        location = random.choice(candidate_locs)\n",
    "    else:\n",
    "        assert types[location].name in base_mutators\n",
    "\n",
    "    base_mutator = base_mutators[types[location].name]\n",
    "\n",
    "    # (2) Setup mutator with base_mutator and use CodeBert for contextual mutation\n",
    "    mutator = ContextualBatchMutation(base_mutator, mlm_codebert_rerank, lang = \"java\")\n",
    "    mutant_dist = mutator(\n",
    "        [MutationCandidate(tokens, types, None, location)]\n",
    "    )\n",
    "    mutant_dist = mutant_dist[0]\n",
    "\n",
    "    # (3) We report the topK mutants\n",
    "    topK_mutants = sorted(mutant_dist.items(), key = lambda x: x[1], reverse = True)\n",
    "    topK_mutants = topK_mutants[:topK]\n",
    "\n",
    "    output = []\n",
    "\n",
    "    for mutant, prob in topK_mutants:\n",
    "        mutant_tokens = list(tokens)\n",
    "        mutant_tokens[location] = mutant\n",
    "        mutant_code = \" \".join(mutant_tokens)\n",
    "\n",
    "        output.append({\n",
    "            \"code\": mutant_code,\n",
    "            \"location\": location,\n",
    "            \"before\" : tokens[location],\n",
    "            \"after\": mutant,\n",
    "            \"score\" : prob\n",
    "        })\n",
    "\n",
    "\n",
    "    return output\n",
    "\n",
    "\n",
    "ctx_mutate(tokens, types, location = 13)\n"
   ]
  },
  {
   "cell_type": "markdown",
   "metadata": {},
   "source": [
    "## Playground\n",
    "Here we have a small playground to use our contextual mutator"
   ]
  },
  {
   "cell_type": "code",
   "execution_count": 41,
   "metadata": {},
   "outputs": [
    {
     "name": "stdout",
     "output_type": "stream",
     "text": [
      "Tokens:\n",
      "['public', 'void', 'test', '(', 'Object', 'input', ')', '{', 'if', '(', 'input', '==', 'null', ')', '{', 'return', ';', '}', 'handle', '(', 'input', ')', ';', '}']\n",
      "\n",
      "Available mutation locations:\n",
      "Loc 10 | Token: input  | Type: USE_VAR | Ctx: { if ( input == null\n",
      "Loc 11 | Token: ==  | Type: BOP | Ctx: if ( input == null )\n",
      "Loc 20 | Token: input  | Type: USE_VAR | Ctx: } handle ( input ) ;\n"
     ]
    }
   ],
   "source": [
    "source_code = \"\"\"\n",
    "\n",
    "public void test(Object input) {\n",
    "    if(input == null) {\n",
    "        return;\n",
    "    }\n",
    "    handle(input);\n",
    "}\n",
    "\n",
    "\"\"\"\n",
    "\n",
    "tokens_types  = next(iter(tokenize_code(source_code).values()))\n",
    "tokens, types = tokens_types[\"tokens\"], tokens_types[\"types\"]\n",
    "\n",
    "print(\"Tokens:\")\n",
    "print(tokens)\n",
    "print()\n",
    "print(\"Available mutation locations:\")\n",
    "\n",
    "for i, token in enumerate(tokens):\n",
    "    type = types[i]\n",
    "    if type.name in [\"USE_VAR\", \"BOP\"]:\n",
    "        token_ctx = \" \".join(tokens[i-3:i+3])\n",
    "        print(\"Loc %d | Token: %s  | Type: %s | Ctx: %s\" % (i, token, type.name, token_ctx))"
   ]
  },
  {
   "cell_type": "markdown",
   "metadata": {},
   "source": [
    "Choose a mutant location and the contextual mutator will produce some candidates."
   ]
  },
  {
   "cell_type": "code",
   "execution_count": 42,
   "metadata": {},
   "outputs": [
    {
     "name": "stdout",
     "output_type": "stream",
     "text": [
      "{'code': 'public void test ( Object input ) { if ( input != null ) { return ; } handle ( input ) ; }', 'location': 11, 'before': '==', 'after': '!=', 'score': 0.9624839110581414}\n",
      "----\n",
      "{'code': 'public void test ( Object input ) { if ( input <= null ) { return ; } handle ( input ) ; }', 'location': 11, 'before': '==', 'after': '<=', 'score': 0.027384249670528885}\n",
      "----\n",
      "{'code': 'public void test ( Object input ) { if ( input < null ) { return ; } handle ( input ) ; }', 'location': 11, 'before': '==', 'after': '<', 'score': 0.008271744622112507}\n",
      "----\n",
      "{'code': 'public void test ( Object input ) { if ( input >= null ) { return ; } handle ( input ) ; }', 'location': 11, 'before': '==', 'after': '>=', 'score': 0.000676133948626892}\n",
      "----\n",
      "{'code': 'public void test ( Object input ) { if ( input > null ) { return ; } handle ( input ) ; }', 'location': 11, 'before': '==', 'after': '>', 'score': 0.0005877486022105648}\n",
      "----\n"
     ]
    }
   ],
   "source": [
    "mutant_location = 11 # Change here (Set to None if random)\n",
    "\n",
    "mutations = ctx_mutate(tokens, types, location = mutant_location)\n",
    "\n",
    "for mutation in mutations:\n",
    "    print(mutation)\n",
    "    print(\"----\")\n"
   ]
  },
  {
   "cell_type": "markdown",
   "metadata": {},
   "source": [
    "### Comparison between mutation types\n",
    "For your example in playgrounds, we will now compute representative\n",
    "mutants for each mutation type."
   ]
  },
  {
   "cell_type": "code",
   "execution_count": 52,
   "metadata": {},
   "outputs": [
    {
     "name": "stdout",
     "output_type": "stream",
     "text": [
      "Loose mutation\n",
      "----------------------------------------------------------------\n",
      "public void test ( Object input ) { if ( input + null ) { return ; } handle ( input ) ; }\n",
      "\n",
      "Strict mutation\n",
      "----------------------------------------------------------------\n",
      "public void test ( Object input ) { if ( input >= null ) { return ; } handle ( input ) ; }\n",
      "\n",
      "Contextual mutation\n",
      "----------------------------------------------------------------\n",
      "public void test ( Object input ) { if ( input != null ) { return ; } handle ( input ) ; }\n",
      "\n"
     ]
    }
   ],
   "source": [
    "# For sampling a mutation\n",
    "def sample_mutation(mutation_dist):\n",
    "    random_selection = random.random()\n",
    "    cumsum = 0.0\n",
    "\n",
    "    for key, prob in sorted(mutation_dist.items(), key = lambda x: x[1], reverse=True):\n",
    "        if cumsum + prob >= random_selection: return key\n",
    "        cumsum += prob\n",
    "    \n",
    "    return key # Because of numerical instabilities sum(probs) smaller 1.0\n",
    "\n",
    "\n",
    "assert types[mutant_location].name == \"BOP\", \"Only all three mutation types are supported for BOP\"\n",
    "\n",
    "# Loose mutant\n",
    "loose_mutation_dist = weak_binary_mutation(tokens, mutant_location)\n",
    "loose_mutant = sample_mutation(loose_mutation_dist)\n",
    "\n",
    "# Strict mutant\n",
    "strong_mutation_dist = strong_binary_mutation(tokens, mutant_location)\n",
    "strong_mutant = sample_mutation(strong_mutation_dist)\n",
    "\n",
    "# Contextual mutant\n",
    "\n",
    "ctx_mutation_dist = {m[\"after\"] : m[\"score\"] for m in mutations}\n",
    "ctx_mutant = sample_mutation(ctx_mutation_dist)\n",
    "\n",
    "for mutant_type, mutant in [(\"Loose mutation\", loose_mutant) , (\"Strict mutation\", strong_mutant), (\"Contextual mutation\", ctx_mutant)]:\n",
    "    print(mutant_type)\n",
    "    print(\"----------------------------------------------------------------\")\n",
    "\n",
    "    mutate_tokens = list(tokens)\n",
    "    mutate_tokens[mutant_location] = mutant\n",
    "    mutate_code = \" \".join(mutate_tokens)\n",
    "\n",
    "    print(mutate_code)\n",
    "    print()\n"
   ]
  }
 ],
 "metadata": {
  "interpreter": {
   "hash": "1e49e4b1338c536a3b24fc51f719eff5e9bb6f42833c3172f334ab85d121b9a3"
  },
  "kernelspec": {
   "display_name": "Python 3.8.8 64-bit ('py38': conda)",
   "language": "python",
   "name": "python3"
  },
  "language_info": {
   "codemirror_mode": {
    "name": "ipython",
    "version": 3
   },
   "file_extension": ".py",
   "mimetype": "text/x-python",
   "name": "python",
   "nbconvert_exporter": "python",
   "pygments_lexer": "ipython3",
   "version": "3.8.8"
  },
  "orig_nbformat": 4
 },
 "nbformat": 4,
 "nbformat_minor": 2
}
